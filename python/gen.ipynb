{
 "cells": [
  {
   "cell_type": "code",
   "execution_count": 1,
   "metadata": {},
   "outputs": [],
   "source": [
    "from PIL import Image\n",
    "import numpy as np\n",
    "import os\n",
    "import shutil"
   ]
  },
  {
   "cell_type": "code",
   "execution_count": 2,
   "metadata": {},
   "outputs": [
    {
     "name": "stdout",
     "output_type": "stream",
     "text": [
      "['10179_2004.jpg', '54321_2004.jpg', '99999999999999_2008.jpg', '12345_2019.jpg', '63631_2019.jpg']\n"
     ]
    }
   ],
   "source": [
    "filenames = [\"63631_2019.jpg\", \"10179_2004.jpg\", \"12345_2019.jpg\", \"54321_2004.jpg\", \"99999999999999_2008.jpg\" ]\n",
    "\n",
    "# Function to extract the year and ID from the filename\n",
    "def extract_year_and_id(filename):\n",
    "    parts = filename.split('_')  # Split the filename by '_'\n",
    "    id_part = int(parts[0])  # Convert the first part to an integer for the ID\n",
    "    year_part = int(parts[1].split('.')[0])  # Extract and convert the year part to an integer\n",
    "    return year_part, id_part  # Return a tuple of year and ID\n",
    "\n",
    "# Sort the filenames using the custom key function\n",
    "sorted_filenames = sorted(filenames, key=extract_year_and_id)\n",
    "\n",
    "print(sorted_filenames)"
   ]
  },
  {
   "cell_type": "code",
   "execution_count": 3,
   "metadata": {},
   "outputs": [],
   "source": [
    "files = os.listdir(\"images/\")\n",
    "files = sorted(files, key=extract_year_and_id)\n",
    "# first_200 = files[:200]\n",
    "# last_200 = files[-200:]\n",
    "# first_last_400 = first_200 + last_200\n",
    "# last_400 = files[-400:]\n",
    "last_2000 = files[-2000:]\n",
    "\n",
    "source_directory = \"images/\"\n",
    "destination_directory = \"images_subset/\"\n",
    "\n",
    "if not os.path.exists(destination_directory):\n",
    "    os.makedirs(destination_directory)\n",
    "\n",
    "# for file_name in first_last_400:\n",
    "for file_name in last_2000:\n",
    "    source = os.path.join(source_directory, file_name)\n",
    "    dest = os.path.join(destination_directory, file_name)\n",
    "    shutil.copy(source, dest)"
   ]
  },
  {
   "cell_type": "code",
   "execution_count": 4,
   "metadata": {},
   "outputs": [],
   "source": [
    "flattened_images = []\n",
    "def resize_images(folder_path, output_folder_path, size=(800, 600)):\n",
    "    if not os.path.exists(output_folder_path):\n",
    "        os.makedirs(output_folder_path)\n",
    "\n",
    "    for filename in os.listdir(folder_path):\n",
    "        if filename.endswith(('.png', '.jpg', '.jpeg')):  # Add/check your image file extensions here\n",
    "            img_path = os.path.join(folder_path, filename)\n",
    "            img = Image.open(img_path)\n",
    "            resized_img = img.resize(size, Image.Resampling.LANCZOS)  # Use LANCZOS for high-quality downsampling\n",
    "            bw_img = resized_img.convert('L')\n",
    "            bw_img.save(os.path.join(output_folder_path, filename))\n",
    "            \n",
    "            image_array = np.array(bw_img).flatten()\n",
    "            flattened_images.append(image_array)\n",
    "\n",
    "# Specify your folder paths and desired size\n",
    "folder_path = 'images_subset/'\n",
    "output_folder_path = 'images_subset_resized/'\n",
    "# size = (48, 48)  # example size, change according to your needs\n",
    "size = (64, 64)  # example size, change according to your needs\n",
    "\n",
    "resize_images(folder_path, output_folder_path, size)"
   ]
  },
  {
   "cell_type": "code",
   "execution_count": 7,
   "metadata": {},
   "outputs": [],
   "source": [
    "mario = Image.open(\"mario.png\").resize((64, 64), Image.Resampling.LANCZOS).convert('L')\n",
    "mario_np = np.array(mario).flatten()\n",
    "flattened_images.insert(0, mario_np)"
   ]
  },
  {
   "cell_type": "code",
   "execution_count": 11,
   "metadata": {},
   "outputs": [],
   "source": [
    "flattened_images_np = np.array(flattened_images)\n",
    "np.savetxt('anime_girls_mario.csv', flattened_images_np, delimiter=',', fmt='%d')  # '%d' for integer format"
   ]
  },
  {
   "cell_type": "code",
   "execution_count": 12,
   "metadata": {},
   "outputs": [
    {
     "data": {
      "text/plain": [
       "<matplotlib.image.AxesImage at 0x1172fd050>"
      ]
     },
     "execution_count": 12,
     "metadata": {},
     "output_type": "execute_result"
    },
    {
     "data": {
      "image/png": "[encoded data removed]",
      "text/plain": [
       "<Figure size 640x480 with 1 Axes>"
      ]
     },
     "metadata": {},
     "output_type": "display_data"
    }
   ],
   "source": [
    "import matplotlib.pyplot as plt\n",
    "\n",
    "faces = np.loadtxt(\"anime_girls_mario.csv\", delimiter=',')\n",
    "plt.imshow(faces[0].reshape(64, 64), cmap='gray')"
   ]
  }
 ],
 "metadata": {
  "kernelspec": {
   "display_name": "Python 3",
   "language": "python",
   "name": "python3"
  },
  "language_info": {
   "codemirror_mode": {
    "name": "ipython",
    "version": 3
   },
   "file_extension": ".py",
   "mimetype": "text/x-python",
   "name": "python",
   "nbconvert_exporter": "python",
   "pygments_lexer": "ipython3",
   "version": "3.11.2"
  }
 },
 "nbformat": 4,
 "nbformat_minor": 2
}
